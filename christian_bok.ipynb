{
 "cells": [
  {
   "cell_type": "markdown",
   "metadata": {},
   "source": [
    "# Notebook to explore the universe of alternative alphabets\n",
    "\n",
    "Goal is to write a poem that will allow complementary base pairing: i.e. the key and query of a dictionary can be flipped and still allow for a valid sentence."
   ]
  },
  {
   "cell_type": "code",
   "execution_count": 164,
   "metadata": {},
   "outputs": [],
   "source": [
    "import numpy as np\n",
    "import pandas as pd\n",
    "import string\n",
    "import os\n",
    "import shutil\n",
    "from timeit import timeit\n",
    "import string\n",
    "if not os.path.exists('words.txt'):\n",
    "    !wget -q -O words.txt http://www.mieliestronk.com/corncob_lowercase.txt words.txt\n",
    "#     !wget -q -o words.txt https://raw.githubusercontent.com/dwyl/english-words/master/words.txt\n",
    "\n",
    "words = pd.read_csv('words.txt',sep='\\n',header=None)[0]\n",
    "words = words[words.notnull()].reset_index(None,True)\n",
    "\n",
    "letters = [l for l in string.ascii_lowercase]\n",
    "num_letters = np.arange(1,27)\n",
    "di_num2let = dict(zip(num_letters, letters))\n",
    "nletters = 26\n",
    "# Function to generate paired mapping\n",
    "def gen_mapping(seed, arr, n):\n",
    "  np.random.seed(seed)\n",
    "  return np.random.choice(arr, n, False).reshape([int(n/2),2])\n",
    "#timeit('gen_mapping(2,num_letters, nletters)',globals=globals(),number=100000)\n",
    "\n",
    "def alpha_trans(txt, xmap):\n",
    "  s1 = ''.join(Xmap[:,0])\n",
    "  s2 = ''.join(Xmap[:,1])\n",
    "  trans = str.maketrans(s1+s2, s2+s1)\n",
    "  return txt.str.translate(trans)"
   ]
  },
  {
   "cell_type": "code",
   "execution_count": 170,
   "metadata": {
    "scrolled": true
   },
   "outputs": [
    {
     "name": "stdout",
     "output_type": "stream",
     "text": [
      "   from to     original       mapped\n",
      "0     p  f  mineworkers  ckdobeliolt\n",
      "1     n  d       desire       notklo\n",
      "2     x  j       pickle       fkmiro\n",
      "3     b  w      dassies      nuttkot\n",
      "4     z  g     tartrate     sulsluso\n",
      "5     q  y      airbase      uklwuto\n",
      "6     t  s    heirlooms    voklreect\n",
      "7     i  k        boron        weled\n",
      "8     e  o   misprinted   cktflkdson\n",
      "9     c  m      headmen      vouncod\n",
      "10    r  l     enlarger     odrulzol\n",
      "11    a  u      artwork      ulsbeli\n",
      "12    h  v     merciful     colmkpar\n"
     ]
    }
   ],
   "source": [
    "Xmap = gen_mapping(35577,letters, nletters)\n",
    "di_map = dict(zip(Xmap[:,0], Xmap[:,1]))\n",
    "txt = words.sample(13,random_state=1).copy()\n",
    "trans = alpha_trans(txt, Xmap)\n",
    "df_example = pd.concat([pd.DataFrame(Xmap,columns=['from','to']),\n",
    "                        pd.DataFrame({'original':txt, 'mapped':trans}).reset_index(None,True)],1)\n",
    "print(df_example)  #[['from','to']]"
   ]
  },
  {
   "cell_type": "code",
   "execution_count": 85,
   "metadata": {},
   "outputs": [],
   "source": [
    "from time import time\n",
    "\n",
    "nsim = 80000\n",
    "tnow = time()\n",
    "\n",
    "holder = []\n",
    "for ii in range(nsim):\n",
    "    if (ii+1) % 10000 == 0:\n",
    "        tdiff = time() - tnow\n",
    "        print('Simulation %i of %i (took %i seconds)' % (ii+1, nsim, tdiff))\n",
    "        tnow = time()\n",
    "    # Generate a random mapping\n",
    "    Xmap = gen_mapping(ii, letters, nletters)\n",
    "    words = words[words.notnull()].reset_index(None,True)\n",
    "    trans = alpha_trans(words.copy(), Xmap)\n",
    "    idx = trans.isin(words)\n",
    "    df = pd.DataFrame({'original':words[idx],'mapped':trans[idx],'seed':ii})\n",
    "    holder.append(df)\n",
    "dat_sim = pd.concat(holder).reset_index(None,True)"
   ]
  },
  {
   "cell_type": "code",
   "execution_count": 87,
   "metadata": {
    "scrolled": false
   },
   "outputs": [
    {
     "data": {
      "text/plain": [
       "<matplotlib.axes._subplots.AxesSubplot at 0x7fb781bc5090>"
      ]
     },
     "execution_count": 87,
     "metadata": {},
     "output_type": "execute_result"
    },
    {
     "data": {
      "image/png": "[encoded data removed]",
      "text/plain": [
       "<Figure size 432x288 with 1 Axes>"
      ]
     },
     "metadata": {
      "needs_background": "light"
     },
     "output_type": "display_data"
    }
   ],
   "source": [
    "import matplotlib.pyplot as plt\n",
    "import seaborn as sns\n",
    "sns.distplot(dat_sim.groupby('seed').size())\n",
    "\n",
    "mx_idx = dat_sim.groupby('seed').size().sort_values(ascending=False).head(1).index[0]\n",
    "pd.options.display.max_rows=260\n",
    "dat_map = dat_sim[dat_sim.seed == mx_idx].reset_index(None,True).assign(ll = lambda x: x.mapped.str.len())\n",
    "dat_map.sort_values('ll',ascending=False).head(15)"
   ]
  },
  {
   "cell_type": "code",
   "execution_count": 148,
   "metadata": {
    "scrolled": false
   },
   "outputs": [],
   "source": [
    "dat_map[['original']].to_csv('fewwords.txt',header=None,index=False,sep='\\t')\n",
    "fewwords = ','.join(dat_map.original).split(',')"
   ]
  },
  {
   "cell_type": "code",
   "execution_count": 137,
   "metadata": {},
   "outputs": [
    {
     "name": "stdout",
     "output_type": "stream",
     "text": [
      "no pair has frequency >= 2. Stopping\r\n"
     ]
    }
   ],
   "source": [
    "!subword-nmt learn-bpe -s 10000 < fewwords.txt > vocab.bpe"
   ]
  },
  {
   "cell_type": "code",
   "execution_count": 167,
   "metadata": {},
   "outputs": [],
   "source": [
    "# dat_map.drop(columns=['seed','ll']).to_csv('mapping.csv',index=False)\n",
    "# dat_map.head()"
   ]
  },
  {
   "cell_type": "code",
   "execution_count": 150,
   "metadata": {},
   "outputs": [
    {
     "name": "stdout",
     "output_type": "stream",
     "text": [
      "3478\n"
     ]
    }
   ],
   "source": [
    "# !git clone https://github.com/graykode/gpt-2-Pytorch\n",
    "# %cd gpt-2-Pytorch\n",
    "# !curl --output gpt2-pytorch_model.bin https://s3.amazonaws.com/models.huggingface.co/bert/gpt2-pytorch_model.bin\n",
    "# !pip install -r requirements.txt\n",
    "path_bpe = os.path.join('gpt-2-Pytorch','GPT2','vocab.bpe')\n",
    "path_json = os.path.join('gpt-2-Pytorch','GPT2','encoder.json')\n",
    "# shutil.copyfile(path_bpe, os.path.join('gpt-2-Pytorch','GPT2','vocab_backup.bpe'))\n",
    "# shutil.copyfile(path_json, os.path.join('gpt-2-Pytorch','GPT2','encoder_backup.json'))\n",
    "# shutil.copyfile(os.path.join('gpt-2-Pytorch','GPT2','vocab_backup.bpe'), path_bpe)\n",
    "shutil.copyfile(os.path.join('gpt-2-Pytorch','GPT2','encoder_backup.json'), path_json)\n",
    "\n",
    "# df = pd.read_csv(path_bpe,header=None,sep='\\n',error_bad_lines=False)\n",
    "# print(df.shape)\n",
    "# df = df[0][~df[0].str.contains('[^Ġa-z\\\\s]')].reset_index(None,True)\n",
    "# df.to_csv(path_bpe, sep='\\n', index=False, header=None)\n",
    "import json\n",
    "with open(path_json) as f:\n",
    "  di_vocab = json.load(f)\n",
    "# Add on\n",
    "punct = ['!', '\"', '#', '$', '%', '&', \"'\", '(', ')', '*', '+', ',', '-', '.', '/','Ġ']\n",
    "letters = [z for z in string.ascii_letters]\n",
    "others = ['en', 'Ġen']\n",
    "new_words = punct + ['Ġ'+z for z in words] + fewwords + letters + others\n",
    "words_json = pd.Series(list(di_vocab))\n",
    "wmatch = words_json[words_json.isin(new_words)].to_list()\n",
    "print(di_vocab['Ġten'])\n",
    "di_new = { z: di_vocab[z] for z in wmatch }\n",
    "with open(path_json, 'w') as outfile:\n",
    "    json.dump(di_new, outfile)"
   ]
  },
  {
   "cell_type": "code",
   "execution_count": 154,
   "metadata": {},
   "outputs": [
    {
     "name": "stdout",
     "output_type": "stream",
     "text": [
      "Error: mkl-service + Intel(R) MKL: MKL_THREADING_LAYER=INTEL is incompatible with libgomp-7c85b1e2.so.1 library.\r\n",
      "\tTry to import numpy first or set the threading layer accordingly. Set MKL_SERVICE_FORCE_INTEL to force it.\r\n"
     ]
    }
   ],
   "source": [
    "# !pip install torch==1.5.0+cpu torchvision==0.6.0+cpu -f https://download.pytorch.org/whl/torch_stable.html\n",
    "\n",
    "\n",
    "!python ./gpt-2-Pytorch/main.py --quiet True --text \"at ten\" --length 5"
   ]
  }
 ],
 "metadata": {
  "kernelspec": {
   "display_name": "Python 3",
   "language": "python",
   "name": "python3"
  },
  "language_info": {
   "codemirror_mode": {
    "name": "ipython",
    "version": 3
   },
   "file_extension": ".py",
   "mimetype": "text/x-python",
   "name": "python",
   "nbconvert_exporter": "python",
   "pygments_lexer": "ipython3",
   "version": "3.7.6"
  }
 },
 "nbformat": 4,
 "nbformat_minor": 4
}
