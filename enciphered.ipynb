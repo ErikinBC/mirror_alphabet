{
 "cells": [
  {
   "cell_type": "markdown",
   "metadata": {},
   "source": [
    "# Computational tools to develop enciphered poems\n",
    "\n",
    "This post provides functions and interactive tools that help with the writing of enciphered poetry. These are poems where each letter has a complementary pairing that allows the sentence to the read using either key. For example, if .... then the following poem can be read as either:\n",
    "\n",
    "> Hello\n",
    "> \n",
    "> World\n",
    "\n",
    "Because an enciphered corpus is an applications of combinatorics, it is a perfect application for computational support. The rest is outlined as follows: (1) gives a background of the constrained poetry movement, (2) shows how to use `python` to create the necessary support functions to determine all possible encipherment possiblities and corresponding (valid) vocaulary, (3) provides a template to create an interactive tool hosted on `dash`, and (4) concludes. \n",
    "\n",
    "The code in this post is selectively highlighted. To see the entire repo and code needed to host [final website](https://mighty-lake-42932.herokuapp.com/), see [this repo](github.com:ErikinBC/mirror_alphabet)."
   ]
  },
  {
   "cell_type": "markdown",
   "metadata": {},
   "source": [
    "# (1) Constraints in poetry\n",
    "\n",
    "Constraints in poetry are as old as the artform itself. Rhyme schemes, meter, and poetic forms (e.g. sonnets) all impose constraints on what words can be used in what order. Yet far from limiting the expressive capacity of poetry, constraints often help to bring out what is most beautiful in human language. The constraint most associated with poetry is rhyming. In the late Victorian era, poets [Tennyson](https://en.wikipedia.org/wiki/Alfred,_Lord_Tennyson) had perfected this mellifluous technique:\n",
    "\n",
    "> By the margin, willow-veil'd,\n",
    ">\n",
    "> Slide the heavy barges trail'd\n",
    ">\n",
    "> By slow horses; an unhail'd\n",
    ">\n",
    "> The shallop flitteth silken-sail'd\n",
    ">\n",
    "> Skimming down to Camelot\n",
    ">\n",
    "> ...\n",
    "> \n",
    "> The Lady of Shallot\n",
    "\n",
    "Though the use of rhymes began to fall out of fashion in the 20th century, Victorian-era poetry highlights that the only way to produce certain sonorous effects is to be bound by a constraint. [Modernist](https://en.wikipedia.org/wiki/Modernist_poetry_in_English) poets like TS Eliot and Ezra Pound moved away from what Milton presciently referred to as the \"the jingling sound of like endings\" to a more fluid and unstructured type of poetry. The poetic world has rarely looked back. Consider the most popular book of poetry (by far) in the 21st century: Rupi Kaur's *milk and honey*. The book is full of beautiful and sparse poetry, yet it has very little rigid structure, and instead is shaped (literally) by the emotional cadence of the sexual trauma the book is based on. \n",
    "\n",
    "Like Newton's third law, all changes in artistic direction are eventually met with a counter-reaction. The [Oulipo movement](https://en.wikipedia.org/wiki/Oulipo) which began in the 1960s attempted to explore the limits of what art could still be produced under increasingly rigorous restrictions. Made up of mainly French-speaking writers and mathematicians, Oulipo were described as \"rats who construct the labyrinth from which they plan to escape.\" For example, [Perec's](https://en.wikipedia.org/wiki/Georges_Perec) *La Disparition* was a novel written without the letter *e* (i.e. a lipogram). \n",
    "\n",
    "Today, there are a small number of contemporary poets whose artistic *oeuvre* is centered around constraint-based poetry. This includes the likes of [Christian Bök](https://www.umlautmachine.net/), [Anthony Etherin](https://anthonyetherin.wordpress.com/), and [Luke Bradford](http://lukebradford.xyz/). These (mainly male) tend to be interested in science and make use of computational tools explore the edge cases of poetic constraints.[[^1]] Below are some poetic examples from each poet:\n",
    "\n",
    "**Luke Bradford**\n",
    "> She's aged well past what rock lies near that seat; \n",
    "> \n",
    "> Like some Myth,\n",
    "> \n",
    "> She's been dead many eons; \n",
    "> \n",
    "> She's seen what amid that long dark lies;\n",
    ">\n",
    "> ...\n",
    "> \n",
    "> Mona Lisa (Tetragrams)\n",
    "\n",
    "**Christian Bök**\n",
    "> Enfettered, these sentences rpress free speech. The text deletes selected letters. We see the revered exegete reject metred verse: the sestet, the tercet...\n",
    ">\n",
    "> ...\n",
    "> \n",
    "> Euonia (Chapter E)\n",
    "\n",
    "**Anthony Etherin**\n",
    "> Deft, I saw\n",
    "> \n",
    "> a crow, over us,\n",
    "> \n",
    "> a sure vow or caw,\n",
    "> \n",
    "> as it fed.\n",
    "> \n",
    "> The Crows (Palindrome)\n",
    "\n",
    "> I wandered lonely as a cloud...\n",
    "> \n",
    "> All law worn. I seduced an ode,\n",
    "> \n",
    "> a lucid yarn so seed allowed...\n",
    ">\n",
    "> ...\n",
    "> \n",
    "> For Wordsworth (Anagram)\n",
    "\n",
    "\n",
    "Though the constraint-based poets today know they are a niche group within a niche art form, their artistic stance actually represents an ongoing debate in poetry for the last 200 years between the [egotistical sublime](https://www.tandfonline.com/doi/abs/10.1080/00138386808597305?journalCode=nest20) and [negative capability](https://en.wikipedia.org/wiki/Negative_capability). The former views the job of the poet to provide a confessional outpouring of feeling; an inner monologue of thoughts and experiences. The latter believes that the poet is merely an instrument which channels other forces to speak through them; treating language as an alien form to engineer it for human purposes. Almost all poets follow the philosophy of the egotistical sublime.\n",
    "\n",
    "For poets like Bök, this obsession of internal reflection and expression, while appropriate in some measure, has consumed contemporary poetic culture to an [unhealthy degree](https://arts.mit.edu/poetry-survive-end-civilization/).\n",
    "\n",
    "> I think the greatest way to impugn poetry is simply to note that even though humans have set foot on the moon, there is no canonical poem about that moment. And you can bet that if the ancient Greeks had ridden a trireme to the moon, there would be a 12-volume epic poem about that grandiose adventure.\n",
    "\n",
    "\n",
    "To a casual reader of poetry, the first encounter with a constraint-based poem will often produce a satisfying feel generated from the \"cool\" effect of the aesthetic. Until one has read Bök's *Eunoia*, no English speaker can truly appreciate the personality of each vowel. Only be constraining ourselves do we learn that *e* is regal and languid, *i* is shrill and staccato, *u* is guttural and dirty, etc."
   ]
  },
  {
   "cell_type": "markdown",
   "metadata": {},
   "source": [
    "# (2) Enciphered poems\n",
    "\n",
    "A wonderful constraint-based poetic form is that of the enciphered poem. When a set of letters are given a complementary pairing, a poem can now be read in two different ways depending on which key is being used. Here is an example of a (rather cryptic) poem using a total of 12 letters and 6 pairs.\n",
    "\n",
    "> An ID acts, he roots\n",
    "> \n",
    "> Id, an itch so leech\n",
    "> \n",
    "> e:o, t:c, a:i, s:h, n:d, r:l\n",
    "\n",
    "The idea of complementary pairings is of course the foundational structure of all biological life: DNA. All genetic code is made up of one of four neucleotides: (A), (C), (G), (T), with a complentary pairing structure of A:C and G:T. This means that a sequence of the neucleotides ACGT is informationally identical to CATG. DNA is double-stranded, meaning that DNA found in every cell is \"zipped-up\" along a complementary pattern: $\\frac{ACGT...}{CATG...}$. While natural languages and genetic languages both have \"letters\", they are used in slightly different ways. In human language, a certain combination of letters forms a word, and a certain order of words forms a sentence. In DNA, different triplets of nucleotides forms a codon, and a certain order of codons forms a gene.[[^2]] \n",
    "\n",
    "[*Deinococcus radiodurans*](https://en.wikipedia.org/wiki/Deinococcus_radiodurans)\n"
   ]
  },
  {
   "cell_type": "markdown",
   "metadata": {},
   "source": [
    "## References\n",
    "\n",
    "[^1]: All of these poets are published by Penteract Press.\n",
    "\n",
    "[^2]: This is of course a simplication of both natural language and genetics, but I am trying to make the two sytems as simple as possible. "
   ]
  },
  {
   "cell_type": "markdown",
   "metadata": {},
   "source": [
    "# (3) Computational tools to support enciphered poems\n",
    "\n",
    "Before writing an enciphered poem, there are two questions that need to decided in advance:\n",
    "\n",
    "1. What dictionary of English words is being chosen?\n",
    "2. How many letters of the English alphabet will be used?\n",
    "\n",
    "Webster's dictionary has over 470K English words. Of course many of these are going to be proper nouns like Athens or archaic words that are seldom used (or understood). Users are encouraged to pick whichever dictionary they believe is most appropriate for the style of poems they are trying to write. As the enciphered poem example in section (2) showed, it is possible to write a poem with only a subset of letters (i.e. a [lipogram](https://en.wikipedia.org/wiki/Lipogram)). \n",
    "\n",
    "For a given choice of $n$ letters (which needs to be an odd number obviously to allow a 1:1 mapping) there is going to a total of $\\prod_{i=1}^{n/2} (2i-1)$ possible ciphers. For example if you had four letters (a,b,c,d), then a total of 3 unique enciphers exist: (i) a:b, c:d, (ii) a:c, b:d, (iii) a:d, b:c. Because the encipher is complementary, the a:b is the same as b:a (in this sense it is akin to combination rather than a permutation). However, in addition to the number of ways $n$ letters can be paired, there are $26 \\choose n$ possible sets of letters for a given encipher. The total number of lipogrammatic encipher. The first code block below shows how many possible encodings can exist."
   ]
  },
  {
   "cell_type": "code",
   "execution_count": 37,
   "metadata": {},
   "outputs": [
    {
     "data": {
      "text/html": [
       "<style  type=\"text/css\" >\n",
       "</style><table id=\"T_a23b0_\" ><thead>    <tr>        <th class=\"blank level0\" ></th>        <th class=\"col_heading level0 col0\" >n_letter</th>        <th class=\"col_heading level0 col1\" >n_encipher</th>        <th class=\"col_heading level0 col2\" >n_comb</th>        <th class=\"col_heading level0 col3\" >n_lipogram</th>    </tr></thead><tbody>\n",
       "                <tr>\n",
       "                        <th id=\"T_a23b0_level0_row0\" class=\"row_heading level0 row0\" >0</th>\n",
       "                        <td id=\"T_a23b0_row0_col0\" class=\"data row0 col0\" >2</td>\n",
       "                        <td id=\"T_a23b0_row0_col1\" class=\"data row0 col1\" >1</td>\n",
       "                        <td id=\"T_a23b0_row0_col2\" class=\"data row0 col2\" >325</td>\n",
       "                        <td id=\"T_a23b0_row0_col3\" class=\"data row0 col3\" >325</td>\n",
       "            </tr>\n",
       "            <tr>\n",
       "                        <th id=\"T_a23b0_level0_row1\" class=\"row_heading level0 row1\" >1</th>\n",
       "                        <td id=\"T_a23b0_row1_col0\" class=\"data row1 col0\" >4</td>\n",
       "                        <td id=\"T_a23b0_row1_col1\" class=\"data row1 col1\" >3</td>\n",
       "                        <td id=\"T_a23b0_row1_col2\" class=\"data row1 col2\" >14,950</td>\n",
       "                        <td id=\"T_a23b0_row1_col3\" class=\"data row1 col3\" >44,850</td>\n",
       "            </tr>\n",
       "            <tr>\n",
       "                        <th id=\"T_a23b0_level0_row2\" class=\"row_heading level0 row2\" >2</th>\n",
       "                        <td id=\"T_a23b0_row2_col0\" class=\"data row2 col0\" >6</td>\n",
       "                        <td id=\"T_a23b0_row2_col1\" class=\"data row2 col1\" >15</td>\n",
       "                        <td id=\"T_a23b0_row2_col2\" class=\"data row2 col2\" >230,230</td>\n",
       "                        <td id=\"T_a23b0_row2_col3\" class=\"data row2 col3\" >3,453,450</td>\n",
       "            </tr>\n",
       "            <tr>\n",
       "                        <th id=\"T_a23b0_level0_row3\" class=\"row_heading level0 row3\" >3</th>\n",
       "                        <td id=\"T_a23b0_row3_col0\" class=\"data row3 col0\" >8</td>\n",
       "                        <td id=\"T_a23b0_row3_col1\" class=\"data row3 col1\" >105</td>\n",
       "                        <td id=\"T_a23b0_row3_col2\" class=\"data row3 col2\" >1,562,275</td>\n",
       "                        <td id=\"T_a23b0_row3_col3\" class=\"data row3 col3\" >164,038,875</td>\n",
       "            </tr>\n",
       "            <tr>\n",
       "                        <th id=\"T_a23b0_level0_row4\" class=\"row_heading level0 row4\" >4</th>\n",
       "                        <td id=\"T_a23b0_row4_col0\" class=\"data row4 col0\" >10</td>\n",
       "                        <td id=\"T_a23b0_row4_col1\" class=\"data row4 col1\" >945</td>\n",
       "                        <td id=\"T_a23b0_row4_col2\" class=\"data row4 col2\" >5,311,735</td>\n",
       "                        <td id=\"T_a23b0_row4_col3\" class=\"data row4 col3\" >5,019,589,575</td>\n",
       "            </tr>\n",
       "            <tr>\n",
       "                        <th id=\"T_a23b0_level0_row5\" class=\"row_heading level0 row5\" >5</th>\n",
       "                        <td id=\"T_a23b0_row5_col0\" class=\"data row5 col0\" >12</td>\n",
       "                        <td id=\"T_a23b0_row5_col1\" class=\"data row5 col1\" >10,395</td>\n",
       "                        <td id=\"T_a23b0_row5_col2\" class=\"data row5 col2\" >9,657,700</td>\n",
       "                        <td id=\"T_a23b0_row5_col3\" class=\"data row5 col3\" >100,391,791,500</td>\n",
       "            </tr>\n",
       "            <tr>\n",
       "                        <th id=\"T_a23b0_level0_row6\" class=\"row_heading level0 row6\" >6</th>\n",
       "                        <td id=\"T_a23b0_row6_col0\" class=\"data row6 col0\" >14</td>\n",
       "                        <td id=\"T_a23b0_row6_col1\" class=\"data row6 col1\" >135,135</td>\n",
       "                        <td id=\"T_a23b0_row6_col2\" class=\"data row6 col2\" >9,657,700</td>\n",
       "                        <td id=\"T_a23b0_row6_col3\" class=\"data row6 col3\" >1,305,093,289,500</td>\n",
       "            </tr>\n",
       "            <tr>\n",
       "                        <th id=\"T_a23b0_level0_row7\" class=\"row_heading level0 row7\" >7</th>\n",
       "                        <td id=\"T_a23b0_row7_col0\" class=\"data row7 col0\" >16</td>\n",
       "                        <td id=\"T_a23b0_row7_col1\" class=\"data row7 col1\" >2,027,025</td>\n",
       "                        <td id=\"T_a23b0_row7_col2\" class=\"data row7 col2\" >5,311,735</td>\n",
       "                        <td id=\"T_a23b0_row7_col3\" class=\"data row7 col3\" >10,767,019,638,375</td>\n",
       "            </tr>\n",
       "            <tr>\n",
       "                        <th id=\"T_a23b0_level0_row8\" class=\"row_heading level0 row8\" >8</th>\n",
       "                        <td id=\"T_a23b0_row8_col0\" class=\"data row8 col0\" >18</td>\n",
       "                        <td id=\"T_a23b0_row8_col1\" class=\"data row8 col1\" >34,459,425</td>\n",
       "                        <td id=\"T_a23b0_row8_col2\" class=\"data row8 col2\" >1,562,275</td>\n",
       "                        <td id=\"T_a23b0_row8_col3\" class=\"data row8 col3\" >53,835,098,191,875</td>\n",
       "            </tr>\n",
       "            <tr>\n",
       "                        <th id=\"T_a23b0_level0_row9\" class=\"row_heading level0 row9\" >9</th>\n",
       "                        <td id=\"T_a23b0_row9_col0\" class=\"data row9 col0\" >20</td>\n",
       "                        <td id=\"T_a23b0_row9_col1\" class=\"data row9 col1\" >654,729,075</td>\n",
       "                        <td id=\"T_a23b0_row9_col2\" class=\"data row9 col2\" >230,230</td>\n",
       "                        <td id=\"T_a23b0_row9_col3\" class=\"data row9 col3\" >150,738,274,937,250</td>\n",
       "            </tr>\n",
       "            <tr>\n",
       "                        <th id=\"T_a23b0_level0_row10\" class=\"row_heading level0 row10\" >10</th>\n",
       "                        <td id=\"T_a23b0_row10_col0\" class=\"data row10 col0\" >22</td>\n",
       "                        <td id=\"T_a23b0_row10_col1\" class=\"data row10 col1\" >13,749,310,575</td>\n",
       "                        <td id=\"T_a23b0_row10_col2\" class=\"data row10 col2\" >14,950</td>\n",
       "                        <td id=\"T_a23b0_row10_col3\" class=\"data row10 col3\" >205,552,193,096,250</td>\n",
       "            </tr>\n",
       "            <tr>\n",
       "                        <th id=\"T_a23b0_level0_row11\" class=\"row_heading level0 row11\" >11</th>\n",
       "                        <td id=\"T_a23b0_row11_col0\" class=\"data row11 col0\" >24</td>\n",
       "                        <td id=\"T_a23b0_row11_col1\" class=\"data row11 col1\" >316,234,143,225</td>\n",
       "                        <td id=\"T_a23b0_row11_col2\" class=\"data row11 col2\" >325</td>\n",
       "                        <td id=\"T_a23b0_row11_col3\" class=\"data row11 col3\" >102,776,096,548,125</td>\n",
       "            </tr>\n",
       "            <tr>\n",
       "                        <th id=\"T_a23b0_level0_row12\" class=\"row_heading level0 row12\" >12</th>\n",
       "                        <td id=\"T_a23b0_row12_col0\" class=\"data row12 col0\" >26</td>\n",
       "                        <td id=\"T_a23b0_row12_col1\" class=\"data row12 col1\" >7,905,853,580,625</td>\n",
       "                        <td id=\"T_a23b0_row12_col2\" class=\"data row12 col2\" >1</td>\n",
       "                        <td id=\"T_a23b0_row12_col3\" class=\"data row12 col3\" >7,905,853,580,625</td>\n",
       "            </tr>\n",
       "    </tbody></table>"
      ],
      "text/plain": [
       "<pandas.io.formats.style.Styler at 0x7faeac079d90>"
      ]
     },
     "execution_count": 37,
     "metadata": {},
     "output_type": "execute_result"
    }
   ],
   "source": [
    "# Load modules needed for rest of post\n",
    "import os\n",
    "import io\n",
    "import nltk\n",
    "import string\n",
    "import contextlib\n",
    "import numpy as np\n",
    "import pandas as pd\n",
    "import plotnine as pn\n",
    "from scipy.special import comb\n",
    "import spacy\n",
    "nlp_sm = spacy.load('en_core_web_sm')\n",
    "\n",
    "letters = [l for l in string.ascii_lowercase]\n",
    "\n",
    "def n_encipher(n_letters):\n",
    "    assert n_letters % 2 == 0, 'n_letters is not even'\n",
    "    n1 = int(np.prod(np.arange(1,n_letters,2)))\n",
    "    n2 = int(comb(26, n_letters))\n",
    "    n_tot = n1 * n2\n",
    "    res = pd.DataFrame({'n_letter':n_letters,'n_encipher':n1, 'n_comb':n2, 'n_lipogram':n_tot},index=[0])\n",
    "    return res\n",
    "\n",
    "n_letter_seq = np.arange(2,26+1,2).astype(int)\n",
    "holder = []\n",
    "for n_letter in n_letter_seq:\n",
    "    holder.append(n_encipher(n_letter))\n",
    "df_ncomb = pd.concat(holder).reset_index(drop=True)\n",
    "df_ncomb.style.format(\"{:,}\")"
   ]
  },
  {
   "cell_type": "markdown",
   "metadata": {},
   "source": [
    "Table 1 shows that there are almost 8 trillion possible ways the create complementary pairings for 26 letters. However, there are more than 205 trillion possible lipogrammatic enciphers when using 22 letters of the English alphabet because there is 13 billion possible pairings with a futher 15 thousand possible sets of 22 letters. It's clear that for an even a highly constrained lipogrammatic choice, there will be millions of possible enciphers. \n",
    "\n",
    "As a first stage we'll download some example datasets we'll need to calculate the set of valid enciphered words. I'm using a [simple dictionary](http://www.mieliestronk.com/wordlist.html) of 58K English words combined with some single-word [n-grams](https://norvig.com/ngrams/) to determine the frequency of word choices. By looking at the frequency of word usage, it will be easy to assess the quality of different enciphered corpuses."
   ]
  },
  {
   "cell_type": "code",
   "execution_count": 19,
   "metadata": {},
   "outputs": [
    {
     "name": "stdout",
     "output_type": "stream",
     "text": [
      "A total of 51886 short words overlap (out of 58109)\n"
     ]
    }
   ],
   "source": [
    "dir_code = os.getcwd()\n",
    "dir_data = os.path.join(dir_code, '..', 'data')\n",
    "dir_output = os.path.join(dir_code, '..', 'output')\n",
    "\n",
    "path_ngram = os.path.join(dir_data,'words_ngram.txt')\n",
    "if not os.path.exists(path_ngram):\n",
    "    os.system('wget -q -O %s/words_ngram.txt https://norvig.com/ngrams/count_1w.txt' % path_ngram)\n",
    "\n",
    "path_words = os.path.join(dir_data,'words_corncob.txt')\n",
    "if not os.path.exists(path_words):\n",
    "    print('Downloading')\n",
    "    os.system('wget -q -O %s/words_corncob.txt http://www.mieliestronk.com/corncob_lowercase.txt' % path_words)\n",
    "    \n",
    "# (1) Load the n-grams\n",
    "df_ngram = pd.read_csv(path_ngram,sep='\\t',header=None).rename(columns={0:'word',1:'n'})\n",
    "df_ngram = df_ngram[~df_ngram.word.isnull()].reset_index(None, True)\n",
    "\n",
    "# (2) Load the dictionary\n",
    "df_words = pd.read_csv(path_words,sep='\\n',header=None).rename(columns={0:'word'})\n",
    "df_words = df_words[~df_words.word.isnull()].reset_index(None, True)\n",
    "\n",
    "# Overlap?\n",
    "n_overlap = df_words.word.isin(df_ngram.word).sum()\n",
    "print('A total of %i short words overlap (out of %i)' % (n_overlap, df_words.shape[0]))\n",
    "\n",
    "# Merge datasets in the intersection\n",
    "df_merge = df_ngram.merge(df_words,'inner','word')\n",
    "df_merge = df_merge.assign(n_sqrt=lambda x: np.sqrt(x.n), n_log=lambda x: np.log(x.n))"
   ]
  },
  {
   "cell_type": "markdown",
   "metadata": {},
   "source": [
    "We can see that there is an 89% overlap between the words in the dictionary and the n-gram data that was downloaded. Next, we can add on the different parts of the speech such as nouns, adverbs, etc."
   ]
  },
  {
   "cell_type": "code",
   "execution_count": 45,
   "metadata": {},
   "outputs": [
    {
     "name": "stdout",
     "output_type": "stream",
     "text": [
      "The ten most and least common words in the dictionary\n"
     ]
    },
    {
     "data": {
      "text/html": [
       "<div>\n",
       "<style scoped>\n",
       "    .dataframe tbody tr th:only-of-type {\n",
       "        vertical-align: middle;\n",
       "    }\n",
       "\n",
       "    .dataframe tbody tr th {\n",
       "        vertical-align: top;\n",
       "    }\n",
       "\n",
       "    .dataframe thead th {\n",
       "        text-align: right;\n",
       "    }\n",
       "</style>\n",
       "<table border=\"1\" class=\"dataframe\">\n",
       "  <thead>\n",
       "    <tr style=\"text-align: right;\">\n",
       "      <th></th>\n",
       "      <th>word</th>\n",
       "      <th>n</th>\n",
       "      <th>word</th>\n",
       "      <th>n</th>\n",
       "    </tr>\n",
       "  </thead>\n",
       "  <tbody>\n",
       "    <tr>\n",
       "      <th>0</th>\n",
       "      <td>the</td>\n",
       "      <td>23135851162</td>\n",
       "      <td>offcuts</td>\n",
       "      <td>12748</td>\n",
       "    </tr>\n",
       "    <tr>\n",
       "      <th>1</th>\n",
       "      <td>of</td>\n",
       "      <td>13151942776</td>\n",
       "      <td>hinderer</td>\n",
       "      <td>12737</td>\n",
       "    </tr>\n",
       "    <tr>\n",
       "      <th>2</th>\n",
       "      <td>and</td>\n",
       "      <td>12997637966</td>\n",
       "      <td>eminences</td>\n",
       "      <td>12734</td>\n",
       "    </tr>\n",
       "    <tr>\n",
       "      <th>3</th>\n",
       "      <td>to</td>\n",
       "      <td>12136980858</td>\n",
       "      <td>vaporisation</td>\n",
       "      <td>12732</td>\n",
       "    </tr>\n",
       "    <tr>\n",
       "      <th>4</th>\n",
       "      <td>in</td>\n",
       "      <td>8469404971</td>\n",
       "      <td>expurgated</td>\n",
       "      <td>12732</td>\n",
       "    </tr>\n",
       "    <tr>\n",
       "      <th>5</th>\n",
       "      <td>for</td>\n",
       "      <td>5933321709</td>\n",
       "      <td>concussed</td>\n",
       "      <td>12732</td>\n",
       "    </tr>\n",
       "    <tr>\n",
       "      <th>6</th>\n",
       "      <td>is</td>\n",
       "      <td>4705743816</td>\n",
       "      <td>griever</td>\n",
       "      <td>12729</td>\n",
       "    </tr>\n",
       "    <tr>\n",
       "      <th>7</th>\n",
       "      <td>on</td>\n",
       "      <td>3750423199</td>\n",
       "      <td>sibilance</td>\n",
       "      <td>12720</td>\n",
       "    </tr>\n",
       "    <tr>\n",
       "      <th>8</th>\n",
       "      <td>that</td>\n",
       "      <td>3400031103</td>\n",
       "      <td>synchronises</td>\n",
       "      <td>12719</td>\n",
       "    </tr>\n",
       "    <tr>\n",
       "      <th>9</th>\n",
       "      <td>by</td>\n",
       "      <td>3350048871</td>\n",
       "      <td>insatiably</td>\n",
       "      <td>12717</td>\n",
       "    </tr>\n",
       "  </tbody>\n",
       "</table>\n",
       "</div>"
      ],
      "text/plain": [
       "   word            n          word      n\n",
       "0   the  23135851162       offcuts  12748\n",
       "1    of  13151942776      hinderer  12737\n",
       "2   and  12997637966     eminences  12734\n",
       "3    to  12136980858  vaporisation  12732\n",
       "4    in   8469404971    expurgated  12732\n",
       "5   for   5933321709     concussed  12732\n",
       "6    is   4705743816       griever  12729\n",
       "7    on   3750423199     sibilance  12720\n",
       "8  that   3400031103  synchronises  12719\n",
       "9    by   3350048871    insatiably  12717"
      ]
     },
     "execution_count": 45,
     "metadata": {},
     "output_type": "execute_result"
    }
   ],
   "source": [
    "# Capture print outupt\n",
    "def capture(fun,arg):\n",
    "    f = io.StringIO()\n",
    "    with contextlib.redirect_stdout(f):\n",
    "        fun(arg)\n",
    "    output = f.getvalue()\n",
    "    return output\n",
    "\n",
    "path_spacy = os.path.join(dir_output, 'pos_spacy.csv')\n",
    "if os.path.exists(path_spacy):\n",
    "    pos_spacy = pd.read_csv(path_spacy)\n",
    "else:\n",
    "    holder = []\n",
    "    for i, txt in enumerate(df_merge.word.to_list()):\n",
    "        if (i+1)%1000 == 0:\n",
    "            print(i+1)\n",
    "        tmp = [pd.DataFrame({'word':txt,'pos':tok.pos_,'tag':tok.tag_},index=[i]) for tok in nlp_sm(txt)][0]\n",
    "        holder.append(tmp)\n",
    "    pos_spacy = pd.concat(holder).reset_index(drop=True)\n",
    "    # Get the definitions for the different tags\n",
    "    dat_tag = pd.DataFrame([capture(nltk.help.upenn_tagset,p).split('\\n')[0].split(': ') for p in list(pos_spacy.tag.unique())])\n",
    "    dat_tag.rename(columns={0:'tag',1:'desc'}, inplace=True)\n",
    "    dat_tag = dat_tag.assign(tag = lambda x: np.where(x.tag.str.len()>5,'XX',x.tag))\n",
    "    pos_spacy = pos_spacy.merge(dat_tag,'left','tag')\n",
    "    pos_spacy.to_csv(path_spacy,index=False)\n",
    "    \n",
    "print('The ten most and least common words in the dictionary')\n",
    "pd.concat([df_merge.head(10)[['word','n']].reset_index(None,True),\n",
    "           df_merge.tail(10)[['word','n']].reset_index(None,True)],1)"
   ]
  },
  {
   "cell_type": "markdown",
   "metadata": {},
   "source": [
    "Let's take a loot at the empirical distribution of n-grams by for our dictionary of around 52K words. Figure 1 below shows that the distribution is highly skewed to the right. Words like \"the\", \"of\", \"and\" are used at an exponentially higher than the vast majority of words. These n-grams will help to weight the final quality of the enciphered corpus. For example, one corpus might have 50 words of frequent usage, whilst another might have 100 of rare usage. By weighting the total number of words, we might come to a different conclusion about which is the \"preferred\" corpus in terms of the quality of word choices to build poems from. Using a log-transformation of the count of the n-grams will tend to favour enciphered corpuses with more words, whilst using the actual count will automatically favour any which one of the top words. "
   ]
  },
  {
   "cell_type": "code",
   "execution_count": 41,
   "metadata": {},
   "outputs": [
    {
     "data": {
      "image/png": "[encoded data removed]",
      "text/plain": [
       "<Figure size 900x250 with 3 Axes>"
      ]
     },
     "metadata": {},
     "output_type": "display_data"
    },
    {
     "data": {
      "text/plain": [
       "<ggplot: (8774252600737)>"
      ]
     },
     "execution_count": 41,
     "metadata": {},
     "output_type": "execute_result"
    }
   ],
   "source": [
    "# Examine the score frequency by percentiles\n",
    "p_seq = np.arange(0.01,1,0.01)\n",
    "dat_n_q = df_merge.melt('word',None,'tt').groupby('tt').value.quantile(p_seq).reset_index()\n",
    "dat_n_q.rename(columns={'level_1':'qq'}, inplace=True)\n",
    "dat_n_q.tt = pd.Categorical(dat_n_q.tt,['n','n_sqrt','n_log'])\n",
    "di_tt = {'n':'count', 'sqrt(count)':'sqrt','n_log':'log(count)'}\n",
    "\n",
    "# DISTIRUBTION OF WORD FREQUENCIES\n",
    "pn.options.figure_size = (9, 2.5)\n",
    "gg_q = (pn.ggplot(dat_n_q, pn.aes(x='qq',y='value')) + pn.geom_path() +\n",
    "       pn.theme_bw() + pn.labs(y='Weight', x='Quantile') +\n",
    "       pn.facet_wrap('~tt',scales='free_y',labeller=pn.labeller(tt=di_tt)) +\n",
    "       pn.theme(subplots_adjust={'wspace': 0.25}))\n",
    "gg_q"
   ]
  },
  {
   "cell_type": "markdown",
   "metadata": {},
   "source": [
    "For a lipogrammatic encipher, we may want to focus on letters that show up most commonly in the English language. According to our dictionary the top-12 letters are: e, t, o, a, i, s, n, r, l, c, h, d."
   ]
  },
  {
   "cell_type": "code",
   "execution_count": 42,
   "metadata": {},
   "outputs": [
    {
     "name": "stdout",
     "output_type": "stream",
     "text": [
      "   letter             n\n",
      "0       e  312191856406\n",
      "1       t  225437874527\n",
      "2       o  201398083835\n",
      "3       a  198476530159\n",
      "4       i  192368122407\n",
      "5       s  181243649705\n",
      "6       n  179959338059\n",
      "7       r  176716148797\n",
      "8       l  109383119821\n",
      "9       c   96701494588\n",
      "10      h   95559527823\n",
      "11      d   93460670221\n"
     ]
    }
   ],
   "source": [
    "letter_freq = df_merge[['word','n']].apply(lambda x: list(x.word),1).reset_index().explode(0)\n",
    "letter_freq.rename(columns={0:'letter','index':'idx'}, inplace=True)\n",
    "letter_freq_n = letter_freq.merge(df_merge.rename_axis('idx').n.reset_index()).groupby('letter').n.sum().reset_index()\n",
    "letter_freq_n = letter_freq_n.sort_values('n',ascending=False).reset_index(None,True)\n",
    "print(letter_freq_n.head(12))"
   ]
  },
  {
   "cell_type": "markdown",
   "metadata": {},
   "source": [
    "Words"
   ]
  },
  {
   "cell_type": "markdown",
   "metadata": {},
   "source": []
  },
  {
   "cell_type": "markdown",
   "metadata": {},
   "source": []
  },
  {
   "cell_type": "code",
   "execution_count": 7,
   "metadata": {},
   "outputs": [
    {
     "name": "stdout",
     "output_type": "stream",
     "text": [
      "         words   mapped\n",
      "43284  scarcer  neqdecd\n",
      "7314   adaptor  qrqzuhd\n",
      "7460   distant  rmnuqsu\n",
      "Mapping: s:n,r:d,w:k,t:u,e:c,v:g,o:h,x:b,q:a,p:z,y:j,i:m,l:f\n",
      "The first 2 letters has 1 mappings\n",
      "The first 4 letters has 3 mappings\n",
      "The first 6 letters has 15 mappings\n",
      "The first 8 letters has 105 mappings\n",
      "The first 10 letters has 945 mappings\n",
      "The first 12 letters has 10395 mappings\n"
     ]
    }
   ],
   "source": [
    "# Example of random mapping\n",
    "num_letters = np.arange(1,27)\n",
    "di_num2let = dict(zip(num_letters, letters))\n",
    "nletters = 26\n",
    "Xmap = rand_mapping(1,letters, nletters)\n",
    "di_map = dict(zip(Xmap[:,0], Xmap[:,1]))\n",
    "rwords = df_merge.word.sample(3,random_state=1)\n",
    "print(pd.DataFrame({'words':rwords, 'mapped':alpha_trans(rwords, Xmap).values}))\n",
    "print('Mapping: %s' % (','.join(pd.DataFrame(Xmap).apply(lambda x: x.str.cat(sep=':'),1).to_list())))\n",
    "\n",
    "# Show that our letter pairings are unique\n",
    "for j in range(2, 13, 2):\n",
    "    alphabet = letters[0:j]\n",
    "    jalphabet = ''.join(alphabet)\n",
    "    mx_perm = npair_max(alphabet)\n",
    "    print('The first %i letters has %i mappings' % (j, mx_perm))\n",
    "    malphabet = pd.Series(np.array([alpha_trans([jalphabet],get_cipher(i, alphabet)) for i in range(mx_perm)]).flat)\n",
    "    assert not malphabet.duplicated().any()"
   ]
  },
  {
   "cell_type": "code",
   "execution_count": 74,
   "metadata": {},
   "outputs": [
    {
     "data": {
      "text/plain": [
       "'a, c, d, e, h, i, l, n, o, r, s, t'"
      ]
     },
     "execution_count": 74,
     "metadata": {},
     "output_type": "execute_result"
    }
   ],
   "source": [
    "', '.join(list(np.sort(alphabet12)))"
   ]
  },
  {
   "cell_type": "markdown",
   "metadata": {},
   "source": [
    "### (5) Exhaustive mapping for \"top\" 12 letters"
   ]
  },
  {
   "cell_type": "code",
   "execution_count": 23,
   "metadata": {},
   "outputs": [
    {
     "name": "stdout",
     "output_type": "stream",
     "text": [
      "There are 6532 unique words using the top 12 letters\n"
     ]
    }
   ],
   "source": [
    "alphabet12 = letter_freq_n.letter[0:12].to_list()\n",
    "jalphabet12 = ''.join(alphabet12)\n",
    "df_merge12 = df_merge[~df_merge.word.str.contains('[^'+jalphabet12+']')]\n",
    "words12 = df_merge12.word\n",
    "print('There are %i unique words using the top 12 letters' % (len(words12)))\n",
    "\n",
    "mx_perm12 = npair_max(alphabet12)\n",
    "di_eval = {0:'idx', 1:'n', 2:'w', 3:'sw', 4:'ln'}\n",
    "\n",
    "path12 = os.path.join(dir_output,'dat_12.csv')\n",
    "if os.path.exists(path12):\n",
    "    dat_12 = pd.read_csv(path12)\n",
    "else:\n",
    "    holder = [] # np.zeros(mx_perm12,dtype=int)\n",
    "    stime, ncheck = time(), 1000\n",
    "    for i in range(mx_perm12):\n",
    "        xmap_i = get_cipher(i, alphabet12)\n",
    "        words_i = words12[alpha_trans(pd.Series(words12), xmap_i).isin(words12)]\n",
    "        df_i = df_merge12.query('word.isin(@words_i)')\n",
    "        df_i = pd.DataFrame(np.append([i, len(df_i)],df_i.mean().values)).T.rename(columns=di_eval)\n",
    "        holder.append(df_i)\n",
    "        if (i + 1) % ncheck == 0:\n",
    "            nleft, nrun, dtime = mx_perm12 - (i+1), i + 1, time() - stime\n",
    "            rate = nrun / dtime\n",
    "            eta = nleft / rate\n",
    "            print('%0.1f calculations per second. ETA: %i seconds for %i remaining' % \n",
    "                  (rate, eta, nleft))\n",
    "    dat_12 = pd.concat(holder)\n",
    "    dat_12[['idx','n']] = dat_12[['idx','n']].astype(int)\n",
    "    dat_12 = dat_12.sort_values('n',ascending=False).reset_index(None,True)\n",
    "    dat_12.to_csv(path12,index=False)"
   ]
  },
  {
   "cell_type": "code",
   "execution_count": 24,
   "metadata": {},
   "outputs": [
    {
     "data": {
      "image/png": "[encoded data removed]",
      "text/plain": [
       "<Figure size 300x300 with 1 Axes>"
      ]
     },
     "metadata": {},
     "output_type": "display_data"
    },
    {
     "data": {
      "text/plain": [
       "<ggplot: (8779056812065)>"
      ]
     },
     "execution_count": 24,
     "metadata": {},
     "output_type": "execute_result"
    }
   ],
   "source": [
    "# How rank-correlated are the different measures?\n",
    "cn_msr = dat_12.columns.drop('idx')\n",
    "holder = []\n",
    "for cn1 in cn_msr:\n",
    "    for cn2 in cn_msr:\n",
    "        holder.append(pd.DataFrame({'cn1':cn1, 'cn2':cn2, 'rho':stats.spearmanr(dat_12[cn1], dat_12[cn2])[0]},index=[0]))\n",
    "dat_rho = pd.concat(holder).assign(cn1=lambda x: pd.Categorical(x.cn1, cn_msr),\n",
    "                                   cn2=lambda x: pd.Categorical(x.cn2, cn_msr))\n",
    "plotnine.options.figure_size = (3, 3)\n",
    "gg_rho = (ggplot(dat_rho, aes(x='cn1',y='cn2',fill='rho')) + \n",
    "        theme_bw() + geom_tile(color='black') + \n",
    "        theme(axis_title=element_blank(),axis_text=element_text(size=12),\n",
    "              axis_text_x=element_text(angle=90)) + \n",
    "         scale_fill_gradient2(low='blue',high='red',mid='grey',midpoint=0) + \n",
    "          guides(fill=False) + \n",
    "         geom_text(aes(label='rho.round(2)'),color='white') + \n",
    "         ggtitle(\"Spearman's rho for ranking metrics\"))\n",
    "gg_rho"
   ]
  },
  {
   "cell_type": "code",
   "execution_count": 25,
   "metadata": {},
   "outputs": [
    {
     "name": "stdout",
     "output_type": "stream",
     "text": [
      "Metric: w has 6 words\n",
      "Metric: sw has 6 words\n",
      "Metric: n has 132 words\n",
      "Metric: ln has 8 words\n"
     ]
    }
   ],
   "source": [
    "# \"best\" word list from each\n",
    "metric_idx = dat_12.melt('idx',None,'metric').sort_values(['metric','value'],ascending=False).groupby('metric').head(1)\n",
    "metric_idx.reset_index(None,True,inplace=True)\n",
    "\n",
    "for i, r in metric_idx.iterrows():\n",
    "    idx, metric = r['idx'], r['metric']\n",
    "    vocab_i = annot_vocab_cipher(corpus=words12, cipher=get_cipher(idx, alphabet12), PoS=pos_spacy)\n",
    "    print('Metric: %s has %i words' % (metric, len(vocab_i)))"
   ]
  },
  {
   "cell_type": "code",
   "execution_count": 68,
   "metadata": {},
   "outputs": [
    {
     "data": {
      "image/png": "[encoded data removed]",
      "text/plain": [
       "<Figure size 400x400 with 1 Axes>"
      ]
     },
     "metadata": {},
     "output_type": "display_data"
    },
    {
     "data": {
      "text/plain": [
       "<ggplot: (8779057298013)>"
      ]
     },
     "execution_count": 68,
     "metadata": {},
     "output_type": "execute_result"
    }
   ],
   "source": [
    "# What is the jaccard index for the top 20 ciphers?\n",
    "k = 20\n",
    "top_idx = dat_12.head(k).idx.values\n",
    "holder = []\n",
    "for i in range(0, k):\n",
    "    idx_i = top_idx[i]\n",
    "    xmap_i = get_cipher(idx_i, alphabet12)\n",
    "    words_i = words12[alpha_trans(pd.Series(words12), xmap_i).isin(words12)]\n",
    "    for j in range(k):\n",
    "        idx_j = top_idx[j]\n",
    "        xmap_j = get_cipher(idx_j, alphabet12)\n",
    "        words_j = words12[alpha_trans(pd.Series(words12), xmap_j).isin(words12)]\n",
    "        jac_ij = jaccard(words_i, words_j)\n",
    "        holder.append(pd.DataFrame({'idx1':idx_i, 'idx2':idx_j, 'jac':jac_ij},index=[0]))\n",
    "res_jac = pd.concat(holder).reset_index(None,True)\n",
    "res_jac = res_jac.assign(idx1=lambda x: x.idx1.astype(str),\n",
    "                         idx2=lambda x: x.idx2.astype(str)).query('idx1 != idx2')\n",
    "plotnine.options.figure_size = (4, 4)\n",
    "gg_jac = (ggplot(res_jac, aes(x='idx1', y='idx2', fill='jac')) + theme_bw() + \n",
    "          geom_tile(color='black') + \n",
    "          labs(y='Cipher #',x='Cipher #') + \n",
    "          scale_fill_gradient2(name='Jaccard',low='blue',mid='grey',high='red',\n",
    "                               midpoint=0.2,breaks=np.arange(0,0.51,0.1),limits=(0,0.4)) + \n",
    "          theme(axis_text_x=element_text(angle=90)) + \n",
    "          ggtitle('Jaccard index between top 20 ciphers'))\n",
    "gg_jac"
   ]
  },
  {
   "cell_type": "code",
   "execution_count": null,
   "metadata": {},
   "outputs": [],
   "source": []
  },
  {
   "cell_type": "code",
   "execution_count": null,
   "metadata": {},
   "outputs": [],
   "source": []
  },
  {
   "cell_type": "code",
   "execution_count": 41,
   "metadata": {},
   "outputs": [],
   "source": []
  },
  {
   "cell_type": "code",
   "execution_count": null,
   "metadata": {},
   "outputs": [],
   "source": []
  },
  {
   "cell_type": "code",
   "execution_count": null,
   "metadata": {},
   "outputs": [],
   "source": []
  },
  {
   "cell_type": "code",
   "execution_count": null,
   "metadata": {},
   "outputs": [],
   "source": []
  },
  {
   "cell_type": "code",
   "execution_count": null,
   "metadata": {},
   "outputs": [],
   "source": []
  },
  {
   "cell_type": "code",
   "execution_count": null,
   "metadata": {},
   "outputs": [],
   "source": [
    "# # Get the different Parts-of-Speech values: USE DF_MERGE\n"
   ]
  },
  {
   "cell_type": "code",
   "execution_count": null,
   "metadata": {},
   "outputs": [],
   "source": []
  },
  {
   "cell_type": "code",
   "execution_count": null,
   "metadata": {},
   "outputs": [],
   "source": []
  },
  {
   "cell_type": "markdown",
   "metadata": {},
   "source": [
    "## Thinking about the Shiny App\n",
    "\n",
    "1. Let users pick a number from 1 to 56 billion, or a \"top\" number\n",
    "2. Let users pick which letters they want in the alphabet (a,b,c,d,e,f for example)\n",
    "3. Users type in the left box, translation happens in the right\n",
    "4. Enable auto-complete with GPT-2 or some such thing\n",
    "5. Show word list: organized by nouns, verbs, adjectives, etc"
   ]
  },
  {
   "cell_type": "code",
   "execution_count": null,
   "metadata": {},
   "outputs": [],
   "source": [
    "# def forwardPerm(idx, lst):\n",
    "#     alst = lst.copy()  # Active copy\n",
    "#     holder = []  # Store the list combination and index\n",
    "#     for j in range(len(lst)):\n",
    "#         if len(alst) == 1:  # Terminate when there is one element less\n",
    "#             q = 0\n",
    "#             v = alst[q]\n",
    "#             holder.append([v, q])\n",
    "#             break\n",
    "#         else:\n",
    "#             nperm = factorial(len(alst)-1)\n",
    "#             q, r = divmod(idx, nperm)\n",
    "#             v = alst[q]\n",
    "#             alst.remove(v)  # Remove v from the list\n",
    "#             idx = r\n",
    "#             holder.append([v, q])\n",
    "#     return holder\n",
    "\n",
    "\n",
    "# dat = pd.concat([pd.DataFrame(forwardPerm(i,letters[0:4])).assign(idx=i) for i in range(24)])\n",
    "# dat.rename(columns={0:'letter', 1:'q'},inplace=True)\n",
    "# dat.groupby(['letter','q']).size().reset_index().rename(columns={0:'n'})"
   ]
  },
  {
   "cell_type": "code",
   "execution_count": null,
   "metadata": {
    "scrolled": true
   },
   "outputs": [],
   "source": [
    "# txt = words.sample(13,random_state=1).copy()\n",
    "# trans = alpha_trans(txt, Xmap)\n",
    "# df_example = pd.concat([pd.DataFrame(Xmap,columns=['from','to']),\n",
    "#                         pd.DataFrame({'original':txt, 'mapped':trans}).reset_index(None,True)],1)\n",
    "# print(df_example)  #[['from','to']]"
   ]
  },
  {
   "cell_type": "code",
   "execution_count": null,
   "metadata": {},
   "outputs": [],
   "source": [
    "# from time import time\n",
    "\n",
    "# nsim = 80000\n",
    "# tnow = time()\n",
    "\n",
    "# holder = []\n",
    "# for ii in range(nsim):\n",
    "#     if (ii+1) % 10000 == 0:\n",
    "#         tdiff = time() - tnow\n",
    "#         print('Simulation %i of %i (took %i seconds)' % (ii+1, nsim, tdiff))\n",
    "#         tnow = time()\n",
    "#     # Generate a random mapping\n",
    "#     Xmap = gen_mapping(ii, letters, nletters)\n",
    "#     words = words[words.notnull()].reset_index(None,True)\n",
    "#     trans = alpha_trans(words.copy(), Xmap)\n",
    "#     idx = trans.isin(words)\n",
    "#     df = pd.DataFrame({'original':words[idx],'mapped':trans[idx],'seed':ii})\n",
    "#     holder.append(df)\n",
    "# dat_sim = pd.concat(holder).reset_index(None,True)"
   ]
  }
 ],
 "metadata": {
  "kernelspec": {
   "display_name": "Python 3",
   "language": "python",
   "name": "python3"
  },
  "language_info": {
   "codemirror_mode": {
    "name": "ipython",
    "version": 3
   },
   "file_extension": ".py",
   "mimetype": "text/x-python",
   "name": "python",
   "nbconvert_exporter": "python",
   "pygments_lexer": "ipython3",
   "version": "3.7.9"
  }
 },
 "nbformat": 4,
 "nbformat_minor": 4
}
