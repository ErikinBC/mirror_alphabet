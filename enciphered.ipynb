{
 "cells": [
  {
   "cell_type": "markdown",
   "metadata": {},
   "source": [
    "# Notebook to explore the universe of alternative alphabets\n",
    "\n",
    "Goal is to write a poem that will allow complementary base pairing: i.e. the key and query of a dictionary can be flipped and still allow for a valid sentence.\n",
    "\n",
    "https://www.pnas.org/content/114/9/2094\n",
    "\n",
    "https://dl.acm.org/doi/10.1145/602421.602426\n",
    "\n",
    "https://www.newscientist.com/article/mg18324595-300-do-we-have-to-spell-it-out/\n",
    "\n",
    "https://www.cjc-online.ca/index.php/journal/article/view/2526/2291\n",
    "\n",
    "https://en.wikipedia.org/wiki/Poem_code"
   ]
  },
  {
   "cell_type": "code",
   "execution_count": null,
   "metadata": {},
   "outputs": [],
   "source": []
  },
  {
   "cell_type": "code",
   "execution_count": 1,
   "metadata": {},
   "outputs": [
    {
     "name": "stdout",
     "output_type": "stream",
     "text": [
      "There are 7,905,853,580,625 possible English alphabet encodings\n"
     ]
    }
   ],
   "source": [
    "import numpy as np\n",
    "import pandas as pd\n",
    "from scipy import stats\n",
    "import string\n",
    "import os\n",
    "import shutil\n",
    "import plotnine\n",
    "from plotnine import *\n",
    "from timeit import timeit\n",
    "import string\n",
    "from time import time\n",
    "\n",
    "from math import factorial\n",
    "import itertools\n",
    "\n",
    "import importlib\n",
    "import funs\n",
    "importlib.reload(funs)\n",
    "from funs import makeifnot\n",
    "from funs import rand_mapping, alpha_trans, get_cipher, npair_max, annot_vocab_cipher\n",
    "from funs import jaccard\n",
    "\n",
    "import nltk\n",
    "from nltk.tokenize import word_tokenize\n",
    "import contextlib, io\n",
    "\n",
    "import spacy\n",
    "\n",
    "nlp_sm = spacy.load(\"en_core_web_sm\")\n",
    "\n",
    "\n",
    "def capture(fun,arg):\n",
    "    f = io.StringIO()\n",
    "    with contextlib.redirect_stdout(f):\n",
    "        fun(arg)\n",
    "    output = f.getvalue()\n",
    "    return output\n",
    "\n",
    "letters = [l for l in string.ascii_lowercase]\n",
    "\n",
    "# There are ~ 8 billion possible alphabet encodings\n",
    "print(f\"There are {npair_max(letters):,} possible English alphabet encodings\")"
   ]
  },
  {
   "cell_type": "code",
   "execution_count": null,
   "metadata": {},
   "outputs": [],
   "source": []
  },
  {
   "cell_type": "markdown",
   "metadata": {},
   "source": [
    "### (1) Download datasets"
   ]
  },
  {
   "cell_type": "code",
   "execution_count": 2,
   "metadata": {},
   "outputs": [
    {
     "name": "stdout",
     "output_type": "stream",
     "text": [
      "words_ngram.txt already exists\n",
      "corncob_lowercase.txt already exists\n"
     ]
    }
   ],
   "source": [
    "dir_code = os.getcwd()\n",
    "dir_data = os.path.join(dir_code, '..', 'data')\n",
    "makeifnot(dir_data)\n",
    "dir_output = os.path.join(dir_code, '..', 'output')\n",
    "makeifnot(dir_output)\n",
    "\n",
    "# (1) Download the ngrams data for frequency\n",
    "path_ngram = os.path.join(dir_data,'words_ngram.txt')\n",
    "if not os.path.exists(path_ngram):\n",
    "    !wget -q -O ../data/words_ngram.txt https://norvig.com/ngrams/count_1w.txt\n",
    "else:\n",
    "    print('words_ngram.txt already exists')\n",
    "\n",
    "# (2) Download the curated dataset\n",
    "path_words = os.path.join(dir_data,'words_corncob.txt')\n",
    "if not os.path.exists(path_words):\n",
    "    print('Downloading')\n",
    "    !wget -q -O ../data/words_corncob.txt http://www.mieliestronk.com/corncob_lowercase.txt\n",
    "else:\n",
    "    print('corncob_lowercase.txt already exists')\n",
    "#https://github.com/dwyl/english-words"
   ]
  },
  {
   "cell_type": "markdown",
   "metadata": {},
   "source": [
    "## (2) Load datasets"
   ]
  },
  {
   "cell_type": "code",
   "execution_count": 3,
   "metadata": {},
   "outputs": [
    {
     "name": "stdout",
     "output_type": "stream",
     "text": [
      "A total of 51886 short words overlap (out of 58109)\n"
     ]
    }
   ],
   "source": [
    "# (1) Load the Ngrams\n",
    "df_ngram = pd.read_csv(path_ngram,sep='\\t',header=None).rename(columns={0:'word',1:'n'})\n",
    "df_ngram = df_ngram[~df_ngram.word.isnull()].reset_index(None, True)\n",
    "\n",
    "# (2) Load the short word set\n",
    "df_words = pd.read_csv(path_words,sep='\\n',header=None).rename(columns={0:'word'})\n",
    "df_words = df_words[~df_words.word.isnull()].reset_index(None, True)\n",
    "\n",
    "# Overlap?\n",
    "n_overlap = df_words.word.isin(df_ngram.word).sum()\n",
    "print('A total of %i short words overlap (out of %i)' % \n",
    "     (n_overlap, df_words.shape[0]))\n",
    "\n",
    "# Merge datasets in the intersection\n",
    "df_merge = df_ngram.merge(df_words,'inner','word')\n",
    "df_merge = df_merge.assign(n_sqrt=lambda x: np.sqrt(x.n), n_log=lambda x: np.log(x.n))\n",
    "# Get the parts of speeach\n",
    "path_spacy = os.path.join(dir_output, 'pos_spacy.csv')\n",
    "if os.path.exists(path_spacy):\n",
    "    pos_spacy = pd.read_csv(path_spacy)\n",
    "else:\n",
    "    stime, ncheck = time(), 1000\n",
    "    holder = []\n",
    "    for i, txt in enumerate(df_merge.word.to_list()):\n",
    "        tmp = [pd.DataFrame({'word':txt,'pos':tok.pos_,'tag':tok.tag_},index=[i]) for tok in nlp_sm(txt)][0]\n",
    "        holder.append(tmp)\n",
    "        if (i + 1) % ncheck == 0:\n",
    "            nleft, nrun, dtime = len(df_merge) - (i+1), i + 1, time() - stime\n",
    "            rate = nrun / dtime\n",
    "            eta = nleft / rate\n",
    "            print('%0.1f calculations per second. ETA: %i seconds for %i remaining' % \n",
    "                  (rate, eta, nleft))\n",
    "    pos_spacy = pd.concat(holder)\n",
    "    # Get the definitions for the different tags\n",
    "    dat_tag = pd.DataFrame([capture(nltk.help.upenn_tagset,p).split('\\n')[0].split(': ') for p in list(pos_spacy.tag.unique())])\n",
    "    dat_tag.rename(columns={0:'tag',1:'desc'}, inplace=True)\n",
    "    dat_tag = dat_tag.assign(tag = lambda x: np.where(x.tag.str.len()>5,'XX',x.tag))\n",
    "    pos_spacy = pos_spacy.merge(dat_tag,'left','tag')\n",
    "    pos_spacy.to_csv(path_spacy,index=False)"
   ]
  },
  {
   "cell_type": "code",
   "execution_count": null,
   "metadata": {},
   "outputs": [],
   "source": []
  },
  {
   "cell_type": "code",
   "execution_count": null,
   "metadata": {},
   "outputs": [],
   "source": []
  },
  {
   "cell_type": "markdown",
   "metadata": {},
   "source": [
    "### (3) Summary statistics on English word frequency"
   ]
  },
  {
   "cell_type": "code",
   "execution_count": 4,
   "metadata": {},
   "outputs": [
    {
     "data": {
      "image/png": "[encoded data removed]",
      "text/plain": [
       "<Figure size 900x250 with 3 Axes>"
      ]
     },
     "metadata": {},
     "output_type": "display_data"
    },
    {
     "data": {
      "text/plain": [
       "<ggplot: (8779199469877)>"
      ]
     },
     "execution_count": 4,
     "metadata": {},
     "output_type": "execute_result"
    }
   ],
   "source": [
    "# Examine the score frequency by percentiles\n",
    "p_seq = np.arange(0.01,1,0.01)\n",
    "dat_n_q = df_merge.melt('word',None,'tt').groupby('tt').value.quantile(p_seq).reset_index()\n",
    "dat_n_q.rename(columns={'level_1':'qq'}, inplace=True)\n",
    "dat_n_q.tt = pd.Categorical(dat_n_q.tt,['n','n_sqrt','n_log'])\n",
    "di_tt = {'n':'n', 'n_sqrt':'sqrt','n_log':'log'}\n",
    "\n",
    "# DISTIRUBTION OF WORD FREQUENCIES\n",
    "plotnine.options.figure_size = (9, 2.5)\n",
    "gg_q = (ggplot(dat_n_q, aes(x='qq',y='value')) + geom_path() + \n",
    "       theme_bw() + facet_wrap('~tt',scales='free_y') + \n",
    "       labs(y='Weight', x='Quantile') + \n",
    "       theme(subplots_adjust={'wspace': 0.25}))\n",
    "gg_q"
   ]
  },
  {
   "cell_type": "code",
   "execution_count": 5,
   "metadata": {},
   "outputs": [
    {
     "name": "stdout",
     "output_type": "stream",
     "text": [
      "The ten most and least common words in the corpus\n"
     ]
    },
    {
     "data": {
      "text/html": [
       "<div>\n",
       "<style scoped>\n",
       "    .dataframe tbody tr th:only-of-type {\n",
       "        vertical-align: middle;\n",
       "    }\n",
       "\n",
       "    .dataframe tbody tr th {\n",
       "        vertical-align: top;\n",
       "    }\n",
       "\n",
       "    .dataframe thead th {\n",
       "        text-align: right;\n",
       "    }\n",
       "</style>\n",
       "<table border=\"1\" class=\"dataframe\">\n",
       "  <thead>\n",
       "    <tr style=\"text-align: right;\">\n",
       "      <th></th>\n",
       "      <th>word</th>\n",
       "      <th>n</th>\n",
       "      <th>word</th>\n",
       "      <th>n</th>\n",
       "    </tr>\n",
       "  </thead>\n",
       "  <tbody>\n",
       "    <tr>\n",
       "      <th>0</th>\n",
       "      <td>the</td>\n",
       "      <td>23135851162</td>\n",
       "      <td>offcuts</td>\n",
       "      <td>12748</td>\n",
       "    </tr>\n",
       "    <tr>\n",
       "      <th>1</th>\n",
       "      <td>of</td>\n",
       "      <td>13151942776</td>\n",
       "      <td>hinderer</td>\n",
       "      <td>12737</td>\n",
       "    </tr>\n",
       "    <tr>\n",
       "      <th>2</th>\n",
       "      <td>and</td>\n",
       "      <td>12997637966</td>\n",
       "      <td>eminences</td>\n",
       "      <td>12734</td>\n",
       "    </tr>\n",
       "    <tr>\n",
       "      <th>3</th>\n",
       "      <td>to</td>\n",
       "      <td>12136980858</td>\n",
       "      <td>vaporisation</td>\n",
       "      <td>12732</td>\n",
       "    </tr>\n",
       "    <tr>\n",
       "      <th>4</th>\n",
       "      <td>in</td>\n",
       "      <td>8469404971</td>\n",
       "      <td>expurgated</td>\n",
       "      <td>12732</td>\n",
       "    </tr>\n",
       "    <tr>\n",
       "      <th>5</th>\n",
       "      <td>for</td>\n",
       "      <td>5933321709</td>\n",
       "      <td>concussed</td>\n",
       "      <td>12732</td>\n",
       "    </tr>\n",
       "    <tr>\n",
       "      <th>6</th>\n",
       "      <td>is</td>\n",
       "      <td>4705743816</td>\n",
       "      <td>griever</td>\n",
       "      <td>12729</td>\n",
       "    </tr>\n",
       "    <tr>\n",
       "      <th>7</th>\n",
       "      <td>on</td>\n",
       "      <td>3750423199</td>\n",
       "      <td>sibilance</td>\n",
       "      <td>12720</td>\n",
       "    </tr>\n",
       "    <tr>\n",
       "      <th>8</th>\n",
       "      <td>that</td>\n",
       "      <td>3400031103</td>\n",
       "      <td>synchronises</td>\n",
       "      <td>12719</td>\n",
       "    </tr>\n",
       "    <tr>\n",
       "      <th>9</th>\n",
       "      <td>by</td>\n",
       "      <td>3350048871</td>\n",
       "      <td>insatiably</td>\n",
       "      <td>12717</td>\n",
       "    </tr>\n",
       "  </tbody>\n",
       "</table>\n",
       "</div>"
      ],
      "text/plain": [
       "   word            n          word      n\n",
       "0   the  23135851162       offcuts  12748\n",
       "1    of  13151942776      hinderer  12737\n",
       "2   and  12997637966     eminences  12734\n",
       "3    to  12136980858  vaporisation  12732\n",
       "4    in   8469404971    expurgated  12732\n",
       "5   for   5933321709     concussed  12732\n",
       "6    is   4705743816       griever  12729\n",
       "7    on   3750423199     sibilance  12720\n",
       "8  that   3400031103  synchronises  12719\n",
       "9    by   3350048871    insatiably  12717"
      ]
     },
     "execution_count": 5,
     "metadata": {},
     "output_type": "execute_result"
    }
   ],
   "source": [
    "print('The ten most and least common words in the corpus')\n",
    "pd.concat([df_merge.head(10)[['word','n']].reset_index(None,True),\n",
    "           df_merge.tail(10)[['word','n']].reset_index(None,True)],1)"
   ]
  },
  {
   "cell_type": "code",
   "execution_count": 6,
   "metadata": {},
   "outputs": [
    {
     "data": {
      "text/html": [
       "<div>\n",
       "<style scoped>\n",
       "    .dataframe tbody tr th:only-of-type {\n",
       "        vertical-align: middle;\n",
       "    }\n",
       "\n",
       "    .dataframe tbody tr th {\n",
       "        vertical-align: top;\n",
       "    }\n",
       "\n",
       "    .dataframe thead th {\n",
       "        text-align: right;\n",
       "    }\n",
       "</style>\n",
       "<table border=\"1\" class=\"dataframe\">\n",
       "  <thead>\n",
       "    <tr style=\"text-align: right;\">\n",
       "      <th></th>\n",
       "      <th>letter</th>\n",
       "      <th>n</th>\n",
       "    </tr>\n",
       "  </thead>\n",
       "  <tbody>\n",
       "    <tr>\n",
       "      <th>0</th>\n",
       "      <td>e</td>\n",
       "      <td>312191856406</td>\n",
       "    </tr>\n",
       "    <tr>\n",
       "      <th>1</th>\n",
       "      <td>t</td>\n",
       "      <td>225437874527</td>\n",
       "    </tr>\n",
       "    <tr>\n",
       "      <th>2</th>\n",
       "      <td>o</td>\n",
       "      <td>201398083835</td>\n",
       "    </tr>\n",
       "    <tr>\n",
       "      <th>3</th>\n",
       "      <td>a</td>\n",
       "      <td>198476530159</td>\n",
       "    </tr>\n",
       "    <tr>\n",
       "      <th>4</th>\n",
       "      <td>i</td>\n",
       "      <td>192368122407</td>\n",
       "    </tr>\n",
       "  </tbody>\n",
       "</table>\n",
       "</div>"
      ],
      "text/plain": [
       "  letter             n\n",
       "0      e  312191856406\n",
       "1      t  225437874527\n",
       "2      o  201398083835\n",
       "3      a  198476530159\n",
       "4      i  192368122407"
      ]
     },
     "execution_count": 6,
     "metadata": {},
     "output_type": "execute_result"
    }
   ],
   "source": [
    "letter_freq = df_merge[['word','n']].apply(lambda x: list(x.word),1).reset_index().explode(0)\n",
    "letter_freq.rename(columns={0:'letter','index':'idx'}, inplace=True)\n",
    "letter_freq_n = letter_freq.merge(df_merge.rename_axis('idx').n.reset_index()).groupby('letter').n.sum().reset_index()\n",
    "letter_freq_n = letter_freq_n.sort_values('n',ascending=False).reset_index(None,True)\n",
    "letter_freq_n.head()"
   ]
  },
  {
   "cell_type": "markdown",
   "metadata": {},
   "source": [
    "### (4) 1:1 mapping system"
   ]
  },
  {
   "cell_type": "code",
   "execution_count": 7,
   "metadata": {},
   "outputs": [
    {
     "name": "stdout",
     "output_type": "stream",
     "text": [
      "         words   mapped\n",
      "43284  scarcer  neqdecd\n",
      "7314   adaptor  qrqzuhd\n",
      "7460   distant  rmnuqsu\n",
      "Mapping: s:n,r:d,w:k,t:u,e:c,v:g,o:h,x:b,q:a,p:z,y:j,i:m,l:f\n",
      "The first 2 letters has 1 mappings\n",
      "The first 4 letters has 3 mappings\n",
      "The first 6 letters has 15 mappings\n",
      "The first 8 letters has 105 mappings\n",
      "The first 10 letters has 945 mappings\n",
      "The first 12 letters has 10395 mappings\n"
     ]
    }
   ],
   "source": [
    "# Example of random mapping\n",
    "num_letters = np.arange(1,27)\n",
    "di_num2let = dict(zip(num_letters, letters))\n",
    "nletters = 26\n",
    "Xmap = rand_mapping(1,letters, nletters)\n",
    "di_map = dict(zip(Xmap[:,0], Xmap[:,1]))\n",
    "rwords = df_merge.word.sample(3,random_state=1)\n",
    "print(pd.DataFrame({'words':rwords, 'mapped':alpha_trans(rwords, Xmap).values}))\n",
    "print('Mapping: %s' % (','.join(pd.DataFrame(Xmap).apply(lambda x: x.str.cat(sep=':'),1).to_list())))\n",
    "\n",
    "# Show that our letter pairings are unique\n",
    "for j in range(2, 13, 2):\n",
    "    alphabet = letters[0:j]\n",
    "    jalphabet = ''.join(alphabet)\n",
    "    mx_perm = npair_max(alphabet)\n",
    "    print('The first %i letters has %i mappings' % (j, mx_perm))\n",
    "    malphabet = pd.Series(np.array([alpha_trans([jalphabet],get_cipher(i, alphabet)) for i in range(mx_perm)]).flat)\n",
    "    assert not malphabet.duplicated().any()"
   ]
  },
  {
   "cell_type": "code",
   "execution_count": 74,
   "metadata": {},
   "outputs": [
    {
     "data": {
      "text/plain": [
       "'a, c, d, e, h, i, l, n, o, r, s, t'"
      ]
     },
     "execution_count": 74,
     "metadata": {},
     "output_type": "execute_result"
    }
   ],
   "source": [
    "', '.join(list(np.sort(alphabet12)))"
   ]
  },
  {
   "cell_type": "markdown",
   "metadata": {},
   "source": [
    "### (5) Exhaustive mapping for \"top\" 12 letters"
   ]
  },
  {
   "cell_type": "code",
   "execution_count": 23,
   "metadata": {},
   "outputs": [
    {
     "name": "stdout",
     "output_type": "stream",
     "text": [
      "There are 6532 unique words using the top 12 letters\n"
     ]
    }
   ],
   "source": [
    "alphabet12 = letter_freq_n.letter[0:12].to_list()\n",
    "jalphabet12 = ''.join(alphabet12)\n",
    "df_merge12 = df_merge[~df_merge.word.str.contains('[^'+jalphabet12+']')]\n",
    "words12 = df_merge12.word\n",
    "print('There are %i unique words using the top 12 letters' % (len(words12)))\n",
    "\n",
    "mx_perm12 = npair_max(alphabet12)\n",
    "di_eval = {0:'idx', 1:'n', 2:'w', 3:'sw', 4:'ln'}\n",
    "\n",
    "path12 = os.path.join(dir_output,'dat_12.csv')\n",
    "if os.path.exists(path12):\n",
    "    dat_12 = pd.read_csv(path12)\n",
    "else:\n",
    "    holder = [] # np.zeros(mx_perm12,dtype=int)\n",
    "    stime, ncheck = time(), 1000\n",
    "    for i in range(mx_perm12):\n",
    "        xmap_i = get_cipher(i, alphabet12)\n",
    "        words_i = words12[alpha_trans(pd.Series(words12), xmap_i).isin(words12)]\n",
    "        df_i = df_merge12.query('word.isin(@words_i)')\n",
    "        df_i = pd.DataFrame(np.append([i, len(df_i)],df_i.mean().values)).T.rename(columns=di_eval)\n",
    "        holder.append(df_i)\n",
    "        if (i + 1) % ncheck == 0:\n",
    "            nleft, nrun, dtime = mx_perm12 - (i+1), i + 1, time() - stime\n",
    "            rate = nrun / dtime\n",
    "            eta = nleft / rate\n",
    "            print('%0.1f calculations per second. ETA: %i seconds for %i remaining' % \n",
    "                  (rate, eta, nleft))\n",
    "    dat_12 = pd.concat(holder)\n",
    "    dat_12[['idx','n']] = dat_12[['idx','n']].astype(int)\n",
    "    dat_12 = dat_12.sort_values('n',ascending=False).reset_index(None,True)\n",
    "    dat_12.to_csv(path12,index=False)"
   ]
  },
  {
   "cell_type": "code",
   "execution_count": 24,
   "metadata": {},
   "outputs": [
    {
     "data": {
      "image/png": "[encoded data removed]",
      "text/plain": [
       "<Figure size 300x300 with 1 Axes>"
      ]
     },
     "metadata": {},
     "output_type": "display_data"
    },
    {
     "data": {
      "text/plain": [
       "<ggplot: (8779056812065)>"
      ]
     },
     "execution_count": 24,
     "metadata": {},
     "output_type": "execute_result"
    }
   ],
   "source": [
    "# How rank-correlated are the different measures?\n",
    "cn_msr = dat_12.columns.drop('idx')\n",
    "holder = []\n",
    "for cn1 in cn_msr:\n",
    "    for cn2 in cn_msr:\n",
    "        holder.append(pd.DataFrame({'cn1':cn1, 'cn2':cn2, 'rho':stats.spearmanr(dat_12[cn1], dat_12[cn2])[0]},index=[0]))\n",
    "dat_rho = pd.concat(holder).assign(cn1=lambda x: pd.Categorical(x.cn1, cn_msr),\n",
    "                                   cn2=lambda x: pd.Categorical(x.cn2, cn_msr))\n",
    "plotnine.options.figure_size = (3, 3)\n",
    "gg_rho = (ggplot(dat_rho, aes(x='cn1',y='cn2',fill='rho')) + \n",
    "        theme_bw() + geom_tile(color='black') + \n",
    "        theme(axis_title=element_blank(),axis_text=element_text(size=12),\n",
    "              axis_text_x=element_text(angle=90)) + \n",
    "         scale_fill_gradient2(low='blue',high='red',mid='grey',midpoint=0) + \n",
    "          guides(fill=False) + \n",
    "         geom_text(aes(label='rho.round(2)'),color='white') + \n",
    "         ggtitle(\"Spearman's rho for ranking metrics\"))\n",
    "gg_rho"
   ]
  },
  {
   "cell_type": "code",
   "execution_count": 25,
   "metadata": {},
   "outputs": [
    {
     "name": "stdout",
     "output_type": "stream",
     "text": [
      "Metric: w has 6 words\n",
      "Metric: sw has 6 words\n",
      "Metric: n has 132 words\n",
      "Metric: ln has 8 words\n"
     ]
    }
   ],
   "source": [
    "# \"best\" word list from each\n",
    "metric_idx = dat_12.melt('idx',None,'metric').sort_values(['metric','value'],ascending=False).groupby('metric').head(1)\n",
    "metric_idx.reset_index(None,True,inplace=True)\n",
    "\n",
    "for i, r in metric_idx.iterrows():\n",
    "    idx, metric = r['idx'], r['metric']\n",
    "    vocab_i = annot_vocab_cipher(corpus=words12, cipher=get_cipher(idx, alphabet12), PoS=pos_spacy)\n",
    "    print('Metric: %s has %i words' % (metric, len(vocab_i)))"
   ]
  },
  {
   "cell_type": "code",
   "execution_count": 68,
   "metadata": {},
   "outputs": [
    {
     "data": {
      "image/png": "[encoded data removed]",
      "text/plain": [
       "<Figure size 400x400 with 1 Axes>"
      ]
     },
     "metadata": {},
     "output_type": "display_data"
    },
    {
     "data": {
      "text/plain": [
       "<ggplot: (8779057298013)>"
      ]
     },
     "execution_count": 68,
     "metadata": {},
     "output_type": "execute_result"
    }
   ],
   "source": [
    "# What is the jaccard index for the top 20 ciphers?\n",
    "k = 20\n",
    "top_idx = dat_12.head(k).idx.values\n",
    "holder = []\n",
    "for i in range(0, k):\n",
    "    idx_i = top_idx[i]\n",
    "    xmap_i = get_cipher(idx_i, alphabet12)\n",
    "    words_i = words12[alpha_trans(pd.Series(words12), xmap_i).isin(words12)]\n",
    "    for j in range(k):\n",
    "        idx_j = top_idx[j]\n",
    "        xmap_j = get_cipher(idx_j, alphabet12)\n",
    "        words_j = words12[alpha_trans(pd.Series(words12), xmap_j).isin(words12)]\n",
    "        jac_ij = jaccard(words_i, words_j)\n",
    "        holder.append(pd.DataFrame({'idx1':idx_i, 'idx2':idx_j, 'jac':jac_ij},index=[0]))\n",
    "res_jac = pd.concat(holder).reset_index(None,True)\n",
    "res_jac = res_jac.assign(idx1=lambda x: x.idx1.astype(str),\n",
    "                         idx2=lambda x: x.idx2.astype(str)).query('idx1 != idx2')\n",
    "plotnine.options.figure_size = (4, 4)\n",
    "gg_jac = (ggplot(res_jac, aes(x='idx1', y='idx2', fill='jac')) + theme_bw() + \n",
    "          geom_tile(color='black') + \n",
    "          labs(y='Cipher #',x='Cipher #') + \n",
    "          scale_fill_gradient2(name='Jaccard',low='blue',mid='grey',high='red',\n",
    "                               midpoint=0.2,breaks=np.arange(0,0.51,0.1),limits=(0,0.4)) + \n",
    "          theme(axis_text_x=element_text(angle=90)) + \n",
    "          ggtitle('Jaccard index between top 20 ciphers'))\n",
    "gg_jac"
   ]
  },
  {
   "cell_type": "code",
   "execution_count": null,
   "metadata": {},
   "outputs": [],
   "source": []
  },
  {
   "cell_type": "code",
   "execution_count": null,
   "metadata": {},
   "outputs": [],
   "source": []
  },
  {
   "cell_type": "code",
   "execution_count": 41,
   "metadata": {},
   "outputs": [],
   "source": []
  },
  {
   "cell_type": "code",
   "execution_count": null,
   "metadata": {},
   "outputs": [],
   "source": []
  },
  {
   "cell_type": "code",
   "execution_count": null,
   "metadata": {},
   "outputs": [],
   "source": []
  },
  {
   "cell_type": "code",
   "execution_count": null,
   "metadata": {},
   "outputs": [],
   "source": []
  },
  {
   "cell_type": "code",
   "execution_count": null,
   "metadata": {},
   "outputs": [],
   "source": []
  },
  {
   "cell_type": "code",
   "execution_count": null,
   "metadata": {},
   "outputs": [],
   "source": [
    "# # Get the different Parts-of-Speech values: USE DF_MERGE\n"
   ]
  },
  {
   "cell_type": "code",
   "execution_count": null,
   "metadata": {},
   "outputs": [],
   "source": []
  },
  {
   "cell_type": "code",
   "execution_count": null,
   "metadata": {},
   "outputs": [],
   "source": []
  },
  {
   "cell_type": "markdown",
   "metadata": {},
   "source": [
    "## Thinking about the Shiny App\n",
    "\n",
    "1. Let users pick a number from 1 to 56 billion, or a \"top\" number\n",
    "2. Let users pick which letters they want in the alphabet (a,b,c,d,e,f for example)\n",
    "3. Users type in the left box, translation happens in the right\n",
    "4. Enable auto-complete with GPT-2 or some such thing\n",
    "5. Show word list: organized by nouns, verbs, adjectives, etc"
   ]
  },
  {
   "cell_type": "code",
   "execution_count": null,
   "metadata": {},
   "outputs": [],
   "source": [
    "# def forwardPerm(idx, lst):\n",
    "#     alst = lst.copy()  # Active copy\n",
    "#     holder = []  # Store the list combination and index\n",
    "#     for j in range(len(lst)):\n",
    "#         if len(alst) == 1:  # Terminate when there is one element less\n",
    "#             q = 0\n",
    "#             v = alst[q]\n",
    "#             holder.append([v, q])\n",
    "#             break\n",
    "#         else:\n",
    "#             nperm = factorial(len(alst)-1)\n",
    "#             q, r = divmod(idx, nperm)\n",
    "#             v = alst[q]\n",
    "#             alst.remove(v)  # Remove v from the list\n",
    "#             idx = r\n",
    "#             holder.append([v, q])\n",
    "#     return holder\n",
    "\n",
    "\n",
    "# dat = pd.concat([pd.DataFrame(forwardPerm(i,letters[0:4])).assign(idx=i) for i in range(24)])\n",
    "# dat.rename(columns={0:'letter', 1:'q'},inplace=True)\n",
    "# dat.groupby(['letter','q']).size().reset_index().rename(columns={0:'n'})"
   ]
  },
  {
   "cell_type": "code",
   "execution_count": null,
   "metadata": {
    "scrolled": true
   },
   "outputs": [],
   "source": [
    "# txt = words.sample(13,random_state=1).copy()\n",
    "# trans = alpha_trans(txt, Xmap)\n",
    "# df_example = pd.concat([pd.DataFrame(Xmap,columns=['from','to']),\n",
    "#                         pd.DataFrame({'original':txt, 'mapped':trans}).reset_index(None,True)],1)\n",
    "# print(df_example)  #[['from','to']]"
   ]
  },
  {
   "cell_type": "code",
   "execution_count": null,
   "metadata": {},
   "outputs": [],
   "source": [
    "# from time import time\n",
    "\n",
    "# nsim = 80000\n",
    "# tnow = time()\n",
    "\n",
    "# holder = []\n",
    "# for ii in range(nsim):\n",
    "#     if (ii+1) % 10000 == 0:\n",
    "#         tdiff = time() - tnow\n",
    "#         print('Simulation %i of %i (took %i seconds)' % (ii+1, nsim, tdiff))\n",
    "#         tnow = time()\n",
    "#     # Generate a random mapping\n",
    "#     Xmap = gen_mapping(ii, letters, nletters)\n",
    "#     words = words[words.notnull()].reset_index(None,True)\n",
    "#     trans = alpha_trans(words.copy(), Xmap)\n",
    "#     idx = trans.isin(words)\n",
    "#     df = pd.DataFrame({'original':words[idx],'mapped':trans[idx],'seed':ii})\n",
    "#     holder.append(df)\n",
    "# dat_sim = pd.concat(holder).reset_index(None,True)"
   ]
  }
 ],
 "metadata": {
  "kernelspec": {
   "display_name": "Python 3",
   "language": "python",
   "name": "python3"
  },
  "language_info": {
   "codemirror_mode": {
    "name": "ipython",
    "version": 3
   },
   "file_extension": ".py",
   "mimetype": "text/x-python",
   "name": "python",
   "nbconvert_exporter": "python",
   "pygments_lexer": "ipython3",
   "version": "3.7.10"
  }
 },
 "nbformat": 4,
 "nbformat_minor": 4
}
